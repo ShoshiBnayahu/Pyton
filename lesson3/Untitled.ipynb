{
 "cells": [
  {
   "cell_type": "code",
   "execution_count": 4,
   "id": "6856b987-c528-4954-8da8-796ee9db7174",
   "metadata": {},
   "outputs": [
    {
     "name": "stdout",
     "output_type": "stream",
     "text": [
      "Collecting numpy\n",
      "  Downloading numpy-1.26.3-cp310-cp310-win_amd64.whl.metadata (61 kB)\n",
      "     ---------------------------------------- 0.0/61.2 kB ? eta -:--:--\n",
      "     ------------------------------- ------ 51.2/61.2 kB 871.5 kB/s eta 0:00:01\n",
      "     ---------------------------------------- 61.2/61.2 kB 1.1 MB/s eta 0:00:00\n",
      "Downloading numpy-1.26.3-cp310-cp310-win_amd64.whl (15.8 MB)\n",
      "   ---------------------------------------- 0.0/15.8 MB ? eta -:--:--\n",
      "   ---------------------------------------- 0.0/15.8 MB 1.4 MB/s eta 0:00:12\n",
      "   ---------------------------------------- 0.1/15.8 MB 1.3 MB/s eta 0:00:12\n",
      "   ---------------------------------------- 0.2/15.8 MB 1.1 MB/s eta 0:00:14\n",
      "    --------------------------------------- 0.3/15.8 MB 1.6 MB/s eta 0:00:10\n",
      "   - -------------------------------------- 0.4/15.8 MB 1.8 MB/s eta 0:00:09\n",
      "   - -------------------------------------- 0.6/15.8 MB 2.3 MB/s eta 0:00:07\n",
      "   -- ------------------------------------- 1.0/15.8 MB 2.9 MB/s eta 0:00:06\n",
      "   --- ------------------------------------ 1.2/15.8 MB 3.4 MB/s eta 0:00:05\n",
      "   ---- ----------------------------------- 1.6/15.8 MB 3.9 MB/s eta 0:00:04\n",
      "   ----- ---------------------------------- 2.1/15.8 MB 4.4 MB/s eta 0:00:04\n",
      "   ------ --------------------------------- 2.5/15.8 MB 4.8 MB/s eta 0:00:03\n",
      "   ------- -------------------------------- 2.9/15.8 MB 5.3 MB/s eta 0:00:03\n",
      "   -------- ------------------------------- 3.3/15.8 MB 5.6 MB/s eta 0:00:03\n",
      "   --------- ------------------------------ 3.7/15.8 MB 5.8 MB/s eta 0:00:03\n",
      "   ---------- ----------------------------- 4.1/15.8 MB 6.0 MB/s eta 0:00:02\n",
      "   ----------- ---------------------------- 4.6/15.8 MB 6.2 MB/s eta 0:00:02\n",
      "   ------------ --------------------------- 4.9/15.8 MB 6.3 MB/s eta 0:00:02\n",
      "   ------------- -------------------------- 5.4/15.8 MB 6.5 MB/s eta 0:00:02\n",
      "   -------------- ------------------------- 5.8/15.8 MB 6.6 MB/s eta 0:00:02\n",
      "   --------------- ------------------------ 6.2/15.8 MB 6.7 MB/s eta 0:00:02\n",
      "   ---------------- ----------------------- 6.6/15.8 MB 6.8 MB/s eta 0:00:02\n",
      "   ----------------- ---------------------- 7.0/15.8 MB 6.9 MB/s eta 0:00:02\n",
      "   ------------------ --------------------- 7.4/15.8 MB 7.0 MB/s eta 0:00:02\n",
      "   ------------------- -------------------- 7.8/15.8 MB 7.1 MB/s eta 0:00:02\n",
      "   -------------------- ------------------- 8.2/15.8 MB 7.1 MB/s eta 0:00:02\n",
      "   --------------------- ------------------ 8.4/15.8 MB 7.1 MB/s eta 0:00:02\n",
      "   ---------------------- ----------------- 8.8/15.8 MB 7.2 MB/s eta 0:00:01\n",
      "   ----------------------- ---------------- 9.3/15.8 MB 7.1 MB/s eta 0:00:01\n",
      "   ------------------------ --------------- 9.6/15.8 MB 7.2 MB/s eta 0:00:01\n",
      "   ------------------------- -------------- 10.1/15.8 MB 7.4 MB/s eta 0:00:01\n",
      "   -------------------------- ------------- 10.5/15.8 MB 8.1 MB/s eta 0:00:01\n",
      "   --------------------------- ------------ 10.9/15.8 MB 8.6 MB/s eta 0:00:01\n",
      "   ---------------------------- ----------- 11.4/15.8 MB 8.8 MB/s eta 0:00:01\n",
      "   ----------------------------- ---------- 11.8/15.8 MB 8.8 MB/s eta 0:00:01\n",
      "   ------------------------------ --------- 12.2/15.8 MB 8.8 MB/s eta 0:00:01\n",
      "   ------------------------------- -------- 12.6/15.8 MB 8.8 MB/s eta 0:00:01\n",
      "   -------------------------------- ------- 12.9/15.8 MB 8.7 MB/s eta 0:00:01\n",
      "   -------------------------------- ------- 13.0/15.8 MB 8.4 MB/s eta 0:00:01\n",
      "   --------------------------------- ------ 13.4/15.8 MB 8.4 MB/s eta 0:00:01\n",
      "   ---------------------------------- ----- 13.8/15.8 MB 8.4 MB/s eta 0:00:01\n",
      "   ------------------------------------ --- 14.2/15.8 MB 8.4 MB/s eta 0:00:01\n",
      "   ------------------------------------- -- 14.7/15.8 MB 8.4 MB/s eta 0:00:01\n",
      "   -------------------------------------- - 15.1/15.8 MB 8.5 MB/s eta 0:00:01\n",
      "   ---------------------------------------  15.5/15.8 MB 8.5 MB/s eta 0:00:01\n",
      "   ---------------------------------------  15.8/15.8 MB 8.5 MB/s eta 0:00:01\n",
      "   ---------------------------------------- 15.8/15.8 MB 8.3 MB/s eta 0:00:00\n",
      "Installing collected packages: numpy\n",
      "Note: you may need to restart the kernel to use updated packages.\n"
     ]
    },
    {
     "name": "stderr",
     "output_type": "stream",
     "text": [
      "  WARNING: Failed to write executable - trying to use .deleteme logic\n",
      "ERROR: Could not install packages due to an OSError: [WinError 2] The system cannot find the file specified: 'C:\\\\Python310\\\\Scripts\\\\f2py.exe' -> 'C:\\\\Python310\\\\Scripts\\\\f2py.exe.deleteme'\n",
      "\n"
     ]
    }
   ],
   "source": [
    "pip install numpy\n"
   ]
  },
  {
   "cell_type": "code",
   "execution_count": 6,
   "id": "e48b779e-fddc-4062-a658-080487a9bc62",
   "metadata": {},
   "outputs": [],
   "source": [
    "import numpy as np\n"
   ]
  },
  {
   "cell_type": "code",
   "execution_count": 12,
   "id": "f28721af-9fff-4cb0-a929-b29144dc7ffb",
   "metadata": {},
   "outputs": [
    {
     "data": {
      "text/plain": [
       "array([33, 21,  4, 44, 21, 45, 48,  8, 34, 38])"
      ]
     },
     "execution_count": 12,
     "metadata": {},
     "output_type": "execute_result"
    }
   ],
   "source": [
    "random_int_array = np.random.randint(1, 50, size=10)\n",
    "random_int_array"
   ]
  },
  {
   "cell_type": "code",
   "execution_count": 13,
   "id": "1349ede7-a1ed-436e-bd4f-e7663445d53d",
   "metadata": {},
   "outputs": [
    {
     "data": {
      "text/plain": [
       "10"
      ]
     },
     "execution_count": 13,
     "metadata": {},
     "output_type": "execute_result"
    }
   ],
   "source": [
    "random_int_array.size"
   ]
  },
  {
   "cell_type": "code",
   "execution_count": 17,
   "id": "40a19d8a-46ec-4123-86ed-c28da75290a6",
   "metadata": {},
   "outputs": [
    {
     "data": {
      "text/plain": [
       "1"
      ]
     },
     "execution_count": 17,
     "metadata": {},
     "output_type": "execute_result"
    }
   ],
   "source": [
    "random_int_array.ndim"
   ]
  },
  {
   "cell_type": "code",
   "execution_count": 18,
   "id": "d65131d9-4112-4df1-9181-9875837f283f",
   "metadata": {},
   "outputs": [
    {
     "data": {
      "text/plain": [
       "dtype('int32')"
      ]
     },
     "execution_count": 18,
     "metadata": {},
     "output_type": "execute_result"
    }
   ],
   "source": [
    "random_int_array.dtype"
   ]
  },
  {
   "cell_type": "code",
   "execution_count": 20,
   "id": "373ee728-f77a-4485-b2dd-8a84cc260b50",
   "metadata": {},
   "outputs": [
    {
     "data": {
      "text/plain": [
       "array([[34, 41, 22, 15, 35],\n",
       "       [78, 52, 42, 17, 15]])"
      ]
     },
     "execution_count": 20,
     "metadata": {},
     "output_type": "execute_result"
    }
   ],
   "source": [
    "random_int_array2 = np.random.randint(10, 100, size=(2,5))\n",
    "random_int_array2"
   ]
  },
  {
   "cell_type": "code",
   "execution_count": 21,
   "id": "a0a85bb1-817a-4569-8f26-9de4560fcb22",
   "metadata": {},
   "outputs": [
    {
     "data": {
      "text/plain": [
       "(2, 5)"
      ]
     },
     "execution_count": 21,
     "metadata": {},
     "output_type": "execute_result"
    }
   ],
   "source": [
    "random_int_array2.shape\n"
   ]
  },
  {
   "cell_type": "code",
   "execution_count": null,
   "id": "84ea8e75-8b39-482c-a5cc-611cf2dcfb5e",
   "metadata": {},
   "outputs": [],
   "source": []
  }
 ],
 "metadata": {
  "kernelspec": {
   "display_name": "Python 3 (ipykernel)",
   "language": "python",
   "name": "python3"
  },
  "language_info": {
   "codemirror_mode": {
    "name": "ipython",
    "version": 3
   },
   "file_extension": ".py",
   "mimetype": "text/x-python",
   "name": "python",
   "nbconvert_exporter": "python",
   "pygments_lexer": "ipython3",
   "version": "3.10.8"
  }
 },
 "nbformat": 4,
 "nbformat_minor": 5
}
